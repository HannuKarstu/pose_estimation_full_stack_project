{
 "cells": [
  {
   "attachments": {},
   "cell_type": "markdown",
   "metadata": {},
   "source": [
    "# Unit tests\n",
    "\n",
    "Importing TensorFlow slows down unit tests. Running tests in VS Code from this Notebook keeps TensorFlow as persintent import and makes testing much faster. Even the debugging works properly."
   ]
  },
  {
   "cell_type": "code",
   "execution_count": 1,
   "metadata": {},
   "outputs": [],
   "source": [
    "%reload_ext autoreload\n",
    "%autoreload 2\n",
    "\n",
    "import os\n",
    "\n",
    "from IPython.display import Image\n",
    "\n",
    "dir_path = os.getcwd()\n",
    "temp_path = os.path.join(dir_path, \"temp\")"
   ]
  },
  {
   "attachments": {},
   "cell_type": "markdown",
   "metadata": {},
   "source": [
    "## TestWebApi"
   ]
  },
  {
   "cell_type": "code",
   "execution_count": 7,
   "metadata": {},
   "outputs": [
    {
     "name": "stdout",
     "output_type": "stream",
     "text": [
      "\u001b[1m============================= test session starts ==============================\u001b[0m\n",
      "platform linux -- Python 3.8.10, pytest-7.2.0, pluggy-1.0.0\n",
      "rootdir: /home/karstu/GIT/applying_ai_project, configfile: pytest.ini\n",
      "plugins: env-0.8.1\n",
      "collected 1 item\n",
      "\n",
      "test_web_api.py \n",
      "Setting up\n",
      "Creating folders\n",
      "Creating folder: '/home/karstu/GIT/applying_ai_project/tests/temp/files'\n",
      "\u001b[32m.\u001b[0m\n",
      "Tearing down\n",
      "\n",
      "\n",
      "\u001b[32m============================== \u001b[32m\u001b[1m1 passed\u001b[0m\u001b[32m in 0.02s\u001b[0m\u001b[32m ===============================\u001b[0m\n"
     ]
    }
   ],
   "source": [
    "%run -m pytest test_web_api.py::TestWebApi::test_hello -s -W ignore::DeprecationWarning"
   ]
  },
  {
   "cell_type": "code",
   "execution_count": 22,
   "metadata": {},
   "outputs": [
    {
     "name": "stdout",
     "output_type": "stream",
     "text": [
      "\u001b[1m============================= test session starts ==============================\u001b[0m\n",
      "platform linux -- Python 3.8.10, pytest-7.2.0, pluggy-1.0.0\n",
      "rootdir: /home/karstu/GIT/applying_ai_project, configfile: pytest.ini\n",
      "plugins: env-0.8.1\n",
      "collected 1 item\n",
      "\n",
      "test_web_api.py \n",
      "Setting up\n",
      "Creating folders\n",
      "Creating folder: '/home/karstu/GIT/applying_ai_project/tests/temp/files'\n",
      "\n",
      "Received POST request to estimate the pose using 'tflite_movenet_lightning_f16'\n",
      "Saving file to '/home/karstu/GIT/applying_ai_project/tests/temp/files/test_image.png' \n",
      "- Done\n",
      "Converting image '/home/karstu/GIT/applying_ai_project/tests/temp/files/test_image.png' to tensor\n",
      "- Done\n",
      "Selecting keypoint detector for model 'tflite_movenet_lightning_f16'.\n",
      "- Model 'tflite_movenet_lightning_f16.tflite' found.\n",
      "Resizing tensor\n",
      "- Done\n",
      "Estimating pose\n",
      "- Done\n",
      "Saving item to database\n",
      "- Saved: (63c934f360f7e9713ac1eedd)\n",
      "Visualizing image with keypoints\n",
      "- Done\n",
      "\n",
      "Received POST request to estimate the pose using 'tflite_movenet_lightning_f16'\n",
      "Saving file to '/home/karstu/GIT/applying_ai_project/tests/temp/files/test_image.png' \n",
      "- Done\n",
      "Converting image '/home/karstu/GIT/applying_ai_project/tests/temp/files/test_image.png' to tensor\n",
      "- Done\n",
      "Selecting keypoint detector for model 'tflite_movenet_lightning_f16'.\n",
      "- Model 'tflite_movenet_lightning_f16.tflite' found.\n",
      "Resizing tensor\n",
      "- Done\n",
      "Estimating pose\n",
      "- Done\n",
      "Saving item to database\n",
      "- Saved: (63c934f460f7e9713ac1eede)\n",
      "Visualizing image with keypoints\n",
      "- Done\n",
      "\n",
      "Received POST request to estimate the pose using 'tflite_movenet_lightning_f16'\n",
      "Saving file to '/home/karstu/GIT/applying_ai_project/tests/temp/files/test_image_1.png' \n",
      "- Done\n",
      "Converting image '/home/karstu/GIT/applying_ai_project/tests/temp/files/test_image_1.png' to tensor\n",
      "- Done\n",
      "Selecting keypoint detector for model 'tflite_movenet_lightning_f16'.\n",
      "- Model 'tflite_movenet_lightning_f16.tflite' found.\n",
      "Resizing tensor\n",
      "- Done\n",
      "Estimating pose\n",
      "- Done\n",
      "Saving item to database\n",
      "- Saved: (63c934f560f7e9713ac1eedf)\n",
      "Visualizing image with keypoints\n",
      "- Done\n",
      "\u001b[32m.\u001b[0m\n",
      "Tearing down\n",
      "\n",
      "\n",
      "\u001b[32m============================== \u001b[32m\u001b[1m1 passed\u001b[0m\u001b[32m in 1.70s\u001b[0m\u001b[32m ===============================\u001b[0m\n"
     ]
    }
   ],
   "source": [
    "%run -m pytest test_web_api.py::TestWebApi::test_predict -s -W ignore::DeprecationWarning"
   ]
  },
  {
   "cell_type": "code",
   "execution_count": 9,
   "metadata": {},
   "outputs": [
    {
     "name": "stdout",
     "output_type": "stream",
     "text": [
      "\u001b[1m============================= test session starts ==============================\u001b[0m\n",
      "platform linux -- Python 3.8.10, pytest-7.2.0, pluggy-1.0.0\n",
      "rootdir: /home/karstu/GIT/applying_ai_project, configfile: pytest.ini\n",
      "plugins: env-0.8.1\n",
      "collected 1 item\n",
      "\n",
      "test_web_api.py \n",
      "Setting up\n",
      "Creating folders\n",
      "Creating folder: '/home/karstu/GIT/applying_ai_project/tests/temp/files'\n",
      "Saving item to database\n",
      "- Saved: {'filename': 'filename.abc', 'keypoints_with_scores': [[[1, 2, 3], [4, 5, 6]]], 'model_name': 'model_abc', '_id': '63c79d1e7d5529e82eacb90c'}\n",
      "Fetching all items from database\n",
      "- Fetched 1 documents\n",
      "\u001b[32m.\u001b[0m\n",
      "Tearing down\n",
      "\n",
      "\n",
      "\u001b[32m============================== \u001b[32m\u001b[1m1 passed\u001b[0m\u001b[32m in 0.04s\u001b[0m\u001b[32m ===============================\u001b[0m\n"
     ]
    }
   ],
   "source": [
    "%run -m pytest test_web_api.py::TestWebApi::test_items -s -W ignore::DeprecationWarning"
   ]
  },
  {
   "cell_type": "code",
   "execution_count": 10,
   "metadata": {},
   "outputs": [
    {
     "name": "stdout",
     "output_type": "stream",
     "text": [
      "\u001b[1m============================= test session starts ==============================\u001b[0m\n",
      "platform linux -- Python 3.8.10, pytest-7.2.0, pluggy-1.0.0\n",
      "rootdir: /home/karstu/GIT/applying_ai_project, configfile: pytest.ini\n",
      "plugins: env-0.8.1\n",
      "collected 1 item\n",
      "\n",
      "test_web_api.py \n",
      "Setting up\n",
      "Creating folders\n",
      "Creating folder: '/home/karstu/GIT/applying_ai_project/tests/temp/files'\n",
      "Saving item to database\n",
      "- Saved: {'filename': 'filename.abc', 'keypoints_with_scores': [[[4, 5, 6], [7, 8, 9]]], 'model_name': 'model_abc', '_id': '63c79d227d5529e82eacb90e'}\n",
      "Fetching item by id (63c79d227d5529e82eacb90e)\n",
      "- Fetched item: {'filename': 'filename.abc', 'keypoints_with_scores': [[[4, 5, 6], [7, 8, 9]]], 'model_name': 'model_abc', '_id': ObjectId('63c79d227d5529e82eacb90e')}\n",
      "Updating item by id (63c79d227d5529e82eacb90e). Update {'extra': 'abc'}\n",
      "- Updated item {'filename': 'filename.abc', 'keypoints_with_scores': [[[4, 5, 6], [7, 8, 9]]], 'model_name': 'model_abc', '_id': '63c79d227d5529e82eacb90e'}\n",
      "Fetching item by id (63c79d227d5529e82eacb90e)\n",
      "- Fetched item: {'filename': 'filename.abc', 'keypoints_with_scores': [[[4, 5, 6], [7, 8, 9]]], 'model_name': 'model_abc', '_id': ObjectId('63c79d227d5529e82eacb90e'), 'extra': 'abc'}\n",
      "Deleting item by id (63c79d227d5529e82eacb90e).\n",
      "- Deleted item: {'filename': 'filename.abc', 'keypoints_with_scores': [[[4, 5, 6], [7, 8, 9]]], 'model_name': 'model_abc', '_id': '63c79d227d5529e82eacb90e', 'extra': 'abc'}\n",
      "Fetching item by id (63c79d227d5529e82eacb90e)\n",
      "\u001b[32m.\u001b[0m\n",
      "Tearing down\n",
      "\n",
      "\n",
      "\u001b[32m============================== \u001b[32m\u001b[1m1 passed\u001b[0m\u001b[32m in 0.04s\u001b[0m\u001b[32m ===============================\u001b[0m\n"
     ]
    }
   ],
   "source": [
    "%run -m pytest test_web_api.py::TestWebApi::test_post_get_delete_item -s -W ignore::DeprecationWarning"
   ]
  },
  {
   "cell_type": "code",
   "execution_count": 28,
   "metadata": {},
   "outputs": [
    {
     "name": "stdout",
     "output_type": "stream",
     "text": [
      "\u001b[1m============================= test session starts ==============================\u001b[0m\n",
      "platform linux -- Python 3.8.10, pytest-7.2.0, pluggy-1.0.0\n",
      "rootdir: /home/karstu/GIT/applying_ai_project, configfile: pytest.ini\n",
      "plugins: env-0.8.1\n",
      "collected 1 item\n",
      "\n",
      "test_web_api.py \n",
      "Setting up\n",
      "Creating folders\n",
      "Creating folder: '/home/karstu/GIT/applying_ai_project/tests/temp/files'\n",
      "Saving item to database\n",
      "- Saved: {'filename': 'test_image.png', 'keypoints_with_scores': [[[[0.33217365, 0.5726658, 0.4494615], [0.31439158, 0.5772979, 0.6838645], [0.31208035, 0.5512204, 0.5983896], [0.31852993, 0.5547738, 0.38557354], [0.31637684, 0.4976929, 0.6155093], [0.41426465, 0.549188, 0.5268066], [0.4061126, 0.43749478, 0.67215455], [0.50775003, 0.6594318, 0.6601538], [0.5105499, 0.52640384, 0.81059706], [0.42197028, 0.64408493, 0.5783226], [0.4168474, 0.6145565, 0.6359308], [0.6082694, 0.40747428, 0.6510321], [0.60762316, 0.31438535, 0.7702483], [0.64879423, 0.5663375, 0.6455827], [0.6788212, 0.43183458, 0.61457497], [0.8356959, 0.515922, 0.533018], [0.8902436, 0.3593879, 0.77834857]]]], 'model_name': 'model_abc', '_id': '63c7a69b7d5529e82eacb931'}\n",
      "Fetching item by id (63c7a69b7d5529e82eacb931)\n",
      "- Fetched item: {'filename': 'test_image.png', 'keypoints_with_scores': [[[[0.33217365, 0.5726658, 0.4494615], [0.31439158, 0.5772979, 0.6838645], [0.31208035, 0.5512204, 0.5983896], [0.31852993, 0.5547738, 0.38557354], [0.31637684, 0.4976929, 0.6155093], [0.41426465, 0.549188, 0.5268066], [0.4061126, 0.43749478, 0.67215455], [0.50775003, 0.6594318, 0.6601538], [0.5105499, 0.52640384, 0.81059706], [0.42197028, 0.64408493, 0.5783226], [0.4168474, 0.6145565, 0.6359308], [0.6082694, 0.40747428, 0.6510321], [0.60762316, 0.31438535, 0.7702483], [0.64879423, 0.5663375, 0.6455827], [0.6788212, 0.43183458, 0.61457497], [0.8356959, 0.515922, 0.533018], [0.8902436, 0.3593879, 0.77834857]]]], 'model_name': 'model_abc', '_id': ObjectId('63c7a69b7d5529e82eacb931')}\n",
      "Fetching item by id (63c7a69b7d5529e82eacb931)\n",
      "- Fetched item: {'filename': 'test_image.png', 'keypoints_with_scores': [[[[0.33217365, 0.5726658, 0.4494615], [0.31439158, 0.5772979, 0.6838645], [0.31208035, 0.5512204, 0.5983896], [0.31852993, 0.5547738, 0.38557354], [0.31637684, 0.4976929, 0.6155093], [0.41426465, 0.549188, 0.5268066], [0.4061126, 0.43749478, 0.67215455], [0.50775003, 0.6594318, 0.6601538], [0.5105499, 0.52640384, 0.81059706], [0.42197028, 0.64408493, 0.5783226], [0.4168474, 0.6145565, 0.6359308], [0.6082694, 0.40747428, 0.6510321], [0.60762316, 0.31438535, 0.7702483], [0.64879423, 0.5663375, 0.6455827], [0.6788212, 0.43183458, 0.61457497], [0.8356959, 0.515922, 0.533018], [0.8902436, 0.3593879, 0.77834857]]]], 'model_name': 'model_abc', '_id': ObjectId('63c7a69b7d5529e82eacb931')}\n",
      "Converting image '/home/karstu/GIT/applying_ai_project/backend/../tests/temp/files/test_image.png' to tensor\n",
      "- Done\n",
      "Visualizing image with keypoints\n",
      "- Done\n",
      "\u001b[32m.\u001b[0m\n",
      "Tearing down\n",
      "\n",
      "\n",
      "\u001b[32m============================== \u001b[32m\u001b[1m1 passed\u001b[0m\u001b[32m in 0.74s\u001b[0m\u001b[32m ===============================\u001b[0m\n"
     ]
    }
   ],
   "source": [
    "%run -m pytest test_web_api.py::TestWebApi::test_get_file -s -W ignore::DeprecationWarning"
   ]
  },
  {
   "cell_type": "code",
   "execution_count": 1,
   "metadata": {},
   "outputs": [
    {
     "name": "stdout",
     "output_type": "stream",
     "text": [
      "\u001b[1m============================= test session starts ==============================\u001b[0m\n",
      "platform linux -- Python 3.8.10, pytest-7.2.0, pluggy-1.0.0\n",
      "rootdir: /home/karstu/GIT/applying_ai_project, configfile: pytest.ini\n",
      "plugins: env-0.8.1\n",
      "Using config 'unit_test'\n",
      "Opening config file '/home/karstu/GIT/applying_ai_project/backend/configs/unit_test.json'\n",
      "collected 1 item\n",
      "\n",
      "test_web_api.py \n",
      "Setting up\n",
      "Creating folders\n",
      "Creating folder: '/home/karstu/GIT/applying_ai_project/tests/temp/files'\n",
      "Saving item to database\n",
      "- Saved: {'filename': 'not_found.jpg', 'keypoints_with_scores': [[[4, 5, 6], [7, 8, 9]]], 'model_name': 'model_abc', '_id': '63c7c659390a817e94ff4570'}\n",
      "Fetching item by id (63c7c659390a817e94ff4570)\n",
      "- Fetched item: {'filename': 'not_found.jpg', 'keypoints_with_scores': [[[4, 5, 6], [7, 8, 9]]], 'model_name': 'model_abc', '_id': ObjectId('63c7c659390a817e94ff4570')}\n",
      "\u001b[32m.\u001b[0m\n",
      "Tearing down\n",
      "\n",
      "\n",
      "\u001b[32m======================== \u001b[32m\u001b[1m1 passed\u001b[0m\u001b[32m in 162.20s (0:02:42)\u001b[0m\u001b[32m =========================\u001b[0m\n"
     ]
    }
   ],
   "source": [
    "%run -m pytest test_web_api.py::TestWebApi::test_get_file_not_found -s -W ignore::DeprecationWarning"
   ]
  },
  {
   "cell_type": "markdown",
   "metadata": {},
   "source": [
    "## TestVisualisations"
   ]
  },
  {
   "cell_type": "code",
   "execution_count": 2,
   "metadata": {},
   "outputs": [
    {
     "name": "stdout",
     "output_type": "stream",
     "text": [
      "\u001b[1m============================= test session starts ==============================\u001b[0m\n",
      "platform linux -- Python 3.8.10, pytest-7.2.0, pluggy-1.0.0\n",
      "rootdir: /home/karstu/GIT/applying_ai_project, configfile: pytest.ini\n",
      "plugins: env-0.8.1\n",
      "collected 1 item\n",
      "\n",
      "test_visualisations.py \n",
      "setting up\n",
      "Creating folders\n",
      "Creating folder: '/home/karstu/GIT/applying_ai_project/tests/temp/files'\n",
      "Converting image '/home/karstu/GIT/applying_ai_project/tests/fixtures/test_image.png' to tensor\n",
      "- Done\n",
      "Visualizing image with keypoints\n",
      "- Done\n",
      "\u001b[31mF\u001b[0mtearing down\n",
      "\n",
      "\n",
      "=================================== FAILURES ===================================\n",
      "\u001b[31m\u001b[1m________ TestVisualisations.test_keypoint_visualization_on_single_image ________\u001b[0m\n",
      "\n",
      "self = <tests.test_visualisations.TestVisualisations object at 0x7fd9481e6fa0>\n",
      "setup_and_teardown = None\n",
      "\n",
      "    \u001b[94mdef\u001b[39;49;00m \u001b[92mtest_keypoint_visualization_on_single_image\u001b[39;49;00m(\u001b[96mself\u001b[39;49;00m, setup_and_teardown):\n",
      "        filename = \u001b[33m\"\u001b[39;49;00m\u001b[33mtest_image.png\u001b[39;49;00m\u001b[33m\"\u001b[39;49;00m\n",
      "        filepath = os.path.join(dir_path, \u001b[33m\"\u001b[39;49;00m\u001b[33mfixtures\u001b[39;49;00m\u001b[33m\"\u001b[39;49;00m, filename)\n",
      "    \n",
      "        image_tensor = convert_image_to_tensor(filepath)\n",
      "    \n",
      "        \u001b[90m# Keypoint array created with MoveNet model tflite_movenet_lightning_f16\u001b[39;49;00m\n",
      "        keypoints_with_scores = np.array(\n",
      "            [[[[\u001b[94m0.33217365\u001b[39;49;00m, \u001b[94m0.5726658\u001b[39;49;00m, \u001b[94m0.4494615\u001b[39;49;00m],\n",
      "              [\u001b[94m0.31439158\u001b[39;49;00m, \u001b[94m0.5772979\u001b[39;49;00m, \u001b[94m0.6838645\u001b[39;49;00m],\n",
      "              [\u001b[94m0.31208035\u001b[39;49;00m, \u001b[94m0.5512204\u001b[39;49;00m, \u001b[94m0.5983896\u001b[39;49;00m],\n",
      "              [\u001b[94m0.31852993\u001b[39;49;00m, \u001b[94m0.5547738\u001b[39;49;00m, \u001b[94m0.38557354\u001b[39;49;00m],\n",
      "              [\u001b[94m0.31637684\u001b[39;49;00m, \u001b[94m0.4976929\u001b[39;49;00m, \u001b[94m0.6155093\u001b[39;49;00m],\n",
      "              [\u001b[94m0.41426465\u001b[39;49;00m, \u001b[94m0.549188\u001b[39;49;00m, \u001b[94m0.5268066\u001b[39;49;00m],\n",
      "              [\u001b[94m0.4061126\u001b[39;49;00m, \u001b[94m0.43749478\u001b[39;49;00m, \u001b[94m0.67215455\u001b[39;49;00m],\n",
      "              [\u001b[94m0.50775003\u001b[39;49;00m, \u001b[94m0.6594318\u001b[39;49;00m, \u001b[94m0.6601538\u001b[39;49;00m],\n",
      "              [\u001b[94m0.5105499\u001b[39;49;00m, \u001b[94m0.52640384\u001b[39;49;00m, \u001b[94m0.81059706\u001b[39;49;00m],\n",
      "              [\u001b[94m0.42197028\u001b[39;49;00m, \u001b[94m0.64408493\u001b[39;49;00m, \u001b[94m0.5783226\u001b[39;49;00m],\n",
      "              [\u001b[94m0.4168474\u001b[39;49;00m, \u001b[94m0.6145565\u001b[39;49;00m, \u001b[94m0.6359308\u001b[39;49;00m],\n",
      "              [\u001b[94m0.6082694\u001b[39;49;00m, \u001b[94m0.40747428\u001b[39;49;00m, \u001b[94m0.6510321\u001b[39;49;00m],\n",
      "              [\u001b[94m0.60762316\u001b[39;49;00m, \u001b[94m0.31438535\u001b[39;49;00m, \u001b[94m0.7702483\u001b[39;49;00m],\n",
      "              [\u001b[94m0.64879423\u001b[39;49;00m, \u001b[94m0.5663375\u001b[39;49;00m, \u001b[94m0.6455827\u001b[39;49;00m],\n",
      "              [\u001b[94m0.6788212\u001b[39;49;00m, \u001b[94m0.43183458\u001b[39;49;00m, \u001b[94m0.61457497\u001b[39;49;00m],\n",
      "              [\u001b[94m0.8356959\u001b[39;49;00m, \u001b[94m0.515922\u001b[39;49;00m, \u001b[94m0.533018\u001b[39;49;00m],\n",
      "              [\u001b[94m0.8902436\u001b[39;49;00m, \u001b[94m0.3593879\u001b[39;49;00m, \u001b[94m0.77834857\u001b[39;49;00m]]]]\n",
      "        )\n",
      "    \n",
      "        image_array = visualize_image_with_keypoints(\n",
      "            image_tensor, keypoints_with_scores)\n",
      "    \n",
      "        output_filepath = os.path.join(temp_path, \u001b[33m\"\u001b[39;49;00m\u001b[33moutput_file.png\u001b[39;49;00m\u001b[33m\"\u001b[39;49;00m)\n",
      ">       saved_image_path = numpy_array_to_img(image_array, output_filepath)\n",
      "\u001b[1m\u001b[31mE       TypeError: numpy_array_to_img() takes 1 positional argument but 2 were given\u001b[0m\n",
      "\n",
      "\u001b[1m\u001b[31mtest_visualisations.py\u001b[0m:64: TypeError\n",
      "\u001b[36m\u001b[1m=========================== short test summary info ============================\u001b[0m\n",
      "\u001b[31mFAILED\u001b[0m test_visualisations.py::\u001b[1mTestVisualisations::test_keypoint_visualization_on_single_image\u001b[0m - TypeError: numpy_array_to_img() takes 1 positional argument but 2 were given\n",
      "\u001b[31m============================== \u001b[31m\u001b[1m1 failed\u001b[0m\u001b[31m in 0.36s\u001b[0m\u001b[31m ===============================\u001b[0m\n"
     ]
    },
    {
     "ename": "SystemExit",
     "evalue": "ExitCode.TESTS_FAILED",
     "output_type": "error",
     "traceback": [
      "\u001b[0;31m---------------------------------------------------------------------------\u001b[0m",
      "\u001b[0;31mSystemExit\u001b[0m                                Traceback (most recent call last)",
      "File \u001b[0;32m/usr/lib/python3.8/runpy.py:207\u001b[0m, in \u001b[0;36mrun_module\u001b[0;34m(mod_name, init_globals, run_name, alter_sys)\u001b[0m\n\u001b[1;32m    205\u001b[0m     run_name \u001b[39m=\u001b[39m mod_name\n\u001b[1;32m    206\u001b[0m \u001b[39mif\u001b[39;00m alter_sys:\n\u001b[0;32m--> 207\u001b[0m     \u001b[39mreturn\u001b[39;00m _run_module_code(code, init_globals, run_name, mod_spec)\n\u001b[1;32m    208\u001b[0m \u001b[39melse\u001b[39;00m:\n\u001b[1;32m    209\u001b[0m     \u001b[39m# Leave the sys module alone\u001b[39;00m\n\u001b[1;32m    210\u001b[0m     \u001b[39mreturn\u001b[39;00m _run_code(code, {}, init_globals, run_name, mod_spec)\n",
      "File \u001b[0;32m/usr/lib/python3.8/runpy.py:97\u001b[0m, in \u001b[0;36m_run_module_code\u001b[0;34m(code, init_globals, mod_name, mod_spec, pkg_name, script_name)\u001b[0m\n\u001b[1;32m     95\u001b[0m \u001b[39mwith\u001b[39;00m _TempModule(mod_name) \u001b[39mas\u001b[39;00m temp_module, _ModifiedArgv0(fname):\n\u001b[1;32m     96\u001b[0m     mod_globals \u001b[39m=\u001b[39m temp_module\u001b[39m.\u001b[39mmodule\u001b[39m.\u001b[39m\u001b[39m__dict__\u001b[39m\n\u001b[0;32m---> 97\u001b[0m     _run_code(code, mod_globals, init_globals,\n\u001b[1;32m     98\u001b[0m               mod_name, mod_spec, pkg_name, script_name)\n\u001b[1;32m     99\u001b[0m \u001b[39m# Copy the globals of the temporary module, as they\u001b[39;00m\n\u001b[1;32m    100\u001b[0m \u001b[39m# may be cleared when the temporary module goes away\u001b[39;00m\n\u001b[1;32m    101\u001b[0m \u001b[39mreturn\u001b[39;00m mod_globals\u001b[39m.\u001b[39mcopy()\n",
      "File \u001b[0;32m/usr/lib/python3.8/runpy.py:87\u001b[0m, in \u001b[0;36m_run_code\u001b[0;34m(code, run_globals, init_globals, mod_name, mod_spec, pkg_name, script_name)\u001b[0m\n\u001b[1;32m     79\u001b[0m         pkg_name \u001b[39m=\u001b[39m mod_spec\u001b[39m.\u001b[39mparent\n\u001b[1;32m     80\u001b[0m run_globals\u001b[39m.\u001b[39mupdate(\u001b[39m__name__\u001b[39m \u001b[39m=\u001b[39m mod_name,\n\u001b[1;32m     81\u001b[0m                    \u001b[39m__file__\u001b[39m \u001b[39m=\u001b[39m fname,\n\u001b[1;32m     82\u001b[0m                    __cached__ \u001b[39m=\u001b[39m cached,\n\u001b[0;32m   (...)\u001b[0m\n\u001b[1;32m     85\u001b[0m                    __package__ \u001b[39m=\u001b[39m pkg_name,\n\u001b[1;32m     86\u001b[0m                    __spec__ \u001b[39m=\u001b[39m mod_spec)\n\u001b[0;32m---> 87\u001b[0m exec(code, run_globals)\n\u001b[1;32m     88\u001b[0m \u001b[39mreturn\u001b[39;00m run_globals\n",
      "File \u001b[0;32m~/GIT/applying_ai_project/.venv/lib/python3.8/site-packages/pytest/__main__.py:5\u001b[0m\n\u001b[1;32m      2\u001b[0m \u001b[39mimport\u001b[39;00m \u001b[39mpytest\u001b[39;00m\n\u001b[1;32m      4\u001b[0m \u001b[39mif\u001b[39;00m \u001b[39m__name__\u001b[39m \u001b[39m==\u001b[39m \u001b[39m\"\u001b[39m\u001b[39m__main__\u001b[39m\u001b[39m\"\u001b[39m:\n\u001b[0;32m----> 5\u001b[0m     \u001b[39mraise\u001b[39;00m \u001b[39mSystemExit\u001b[39;00m(pytest\u001b[39m.\u001b[39mconsole_main())\n",
      "\u001b[0;31mSystemExit\u001b[0m: ExitCode.TESTS_FAILED"
     ]
    },
    {
     "name": "stderr",
     "output_type": "stream",
     "text": [
      "/home/karstu/GIT/applying_ai_project/.venv/lib/python3.8/site-packages/IPython/core/interactiveshell.py:2905: UserWarning: Unknown failure executing module: <pytest>\n",
      "  warn('Unknown failure executing module: <%s>' % mod_name)\n"
     ]
    },
    {
     "ename": "NameError",
     "evalue": "name 'Image' is not defined",
     "output_type": "error",
     "traceback": [
      "\u001b[0;31m---------------------------------------------------------------------------\u001b[0m",
      "\u001b[0;31mNameError\u001b[0m                                 Traceback (most recent call last)",
      "Cell \u001b[0;32mIn[2], line 3\u001b[0m\n\u001b[1;32m      1\u001b[0m get_ipython()\u001b[39m.\u001b[39mrun_line_magic(\u001b[39m'\u001b[39m\u001b[39mrun\u001b[39m\u001b[39m'\u001b[39m, \u001b[39m'\u001b[39m\u001b[39m-m pytest test_visualisations.py::TestVisualisations::test_keypoint_visualization_on_single_image -s -W ignore::DeprecationWarning\u001b[39m\u001b[39m'\u001b[39m)\n\u001b[0;32m----> 3\u001b[0m Image(filename\u001b[39m=\u001b[39mos\u001b[39m.\u001b[39mpath\u001b[39m.\u001b[39mjoin(temp_path, \u001b[39m\"\u001b[39m\u001b[39moutput_file.png\u001b[39m\u001b[39m\"\u001b[39m))\n",
      "\u001b[0;31mNameError\u001b[0m: name 'Image' is not defined"
     ]
    }
   ],
   "source": [
    "%run -m pytest test_visualisations.py::TestVisualisations::test_keypoint_visualization_on_single_image -s -W ignore::DeprecationWarning\n",
    "\n",
    "Image(filename=os.path.join(temp_path, \"output_file.png\"))"
   ]
  },
  {
   "cell_type": "markdown",
   "metadata": {},
   "source": [
    "# TestPoseEstimationProcess"
   ]
  },
  {
   "cell_type": "code",
   "execution_count": null,
   "metadata": {},
   "outputs": [
    {
     "name": "stdout",
     "output_type": "stream",
     "text": [
      "\u001b[1m============================= test session starts ==============================\u001b[0m\n",
      "platform linux -- Python 3.8.10, pytest-7.2.0, pluggy-1.0.0\n",
      "rootdir: /home/karstu/GIT/applying_ai_project, configfile: pytest.ini\n",
      "plugins: env-0.8.1\n",
      "collected 1 item\n",
      "\n",
      "test_prediction.py Testing model blazepose\n",
      "Converting image '/home/karstu/GIT/applying_ai_project/tests/fixtures/test_image.png' to tensor\n",
      "- Done\n",
      "Selecting keypoint detector for model 'blazepose'.\n",
      "Estimating pose\n"
     ]
    },
    {
     "name": "stderr",
     "output_type": "stream",
     "text": [
      "libpng warning: iCCP: known incorrect sRGB profile\n",
      "libpng warning: iCCP: cHRM chunk does not match sRGB\n",
      "INFO: Created TensorFlow Lite XNNPACK delegate for CPU.\n"
     ]
    },
    {
     "name": "stdout",
     "output_type": "stream",
     "text": [
      "- Done\n",
      "Converting results\n",
      "- Done\n",
      "- Done in 0.46\n",
      "Testing model tflite_movenet_lightning_f16\n",
      "Converting image '/home/karstu/GIT/applying_ai_project/tests/fixtures/test_image.png' to tensor\n",
      "- Done\n",
      "Selecting keypoint detector for model 'tflite_movenet_lightning_f16'.\n",
      "- Model 'tflite_movenet_lightning_f16.tflite' found.\n",
      "Resizing tensor\n",
      "- Done\n",
      "Estimating pose\n",
      "- Done\n",
      "- Done in 0.04\n",
      "Testing model tflite_movenet_thunder_f16\n",
      "Converting image '/home/karstu/GIT/applying_ai_project/tests/fixtures/test_image.png' to tensor\n",
      "- Done\n",
      "Selecting keypoint detector for model 'tflite_movenet_thunder_f16'.\n",
      "- Model 'tflite_movenet_thunder_f16.tflite' found.\n",
      "Resizing tensor\n",
      "- Done\n",
      "Estimating pose\n",
      "- Done\n",
      "- Done in 0.16\n",
      "Testing model tflite_movenet_lightning_int8\n",
      "Converting image '/home/karstu/GIT/applying_ai_project/tests/fixtures/test_image.png' to tensor\n",
      "- Done\n",
      "Selecting keypoint detector for model 'tflite_movenet_lightning_int8'.\n",
      "- Model 'tflite_movenet_lightning_int8.tflite' found.\n",
      "Resizing tensor\n",
      "- Done\n",
      "Estimating pose\n",
      "- Done\n",
      "- Done in 0.04\n",
      "Testing model tflite_movenet_thunder_int8\n",
      "Converting image '/home/karstu/GIT/applying_ai_project/tests/fixtures/test_image.png' to tensor\n",
      "- Done\n",
      "Selecting keypoint detector for model 'tflite_movenet_thunder_int8'.\n",
      "- Model 'tflite_movenet_thunder_int8.tflite' found.\n",
      "Resizing tensor\n",
      "- Done\n",
      "Estimating pose\n",
      "- Done\n",
      "- Done in 0.1\n",
      "Testing model movenet_lightning\n",
      "Converting image '/home/karstu/GIT/applying_ai_project/tests/fixtures/test_image.png' to tensor\n",
      "- Done\n",
      "Selecting keypoint detector for model 'movenet_lightning'.\n",
      "Resizing tensor\n",
      "- Done\n",
      "- Done in 12.16\n",
      "Testing model movenet_thunder\n",
      "Converting image '/home/karstu/GIT/applying_ai_project/tests/fixtures/test_image.png' to tensor\n",
      "- Done\n",
      "Selecting keypoint detector for model 'movenet_thunder'.\n",
      "Resizing tensor\n",
      "- Done\n",
      "- Done in 12.03\n",
      "\u001b[32m.\u001b[0m\n",
      "\n",
      "\u001b[32m============================== \u001b[32m\u001b[1m1 passed\u001b[0m\u001b[32m in 25.01s\u001b[0m\u001b[32m ==============================\u001b[0m\n"
     ]
    }
   ],
   "source": [
    "%run -m pytest test_prediction.py::TestPoseEstimationProcess::test_pose_estimation_process_with_single_image -s -W ignore::DeprecationWarning"
   ]
  },
  {
   "cell_type": "code",
   "execution_count": null,
   "metadata": {},
   "outputs": [],
   "source": []
  }
 ],
 "metadata": {
  "kernelspec": {
   "display_name": ".venv",
   "language": "python",
   "name": "python3"
  },
  "language_info": {
   "codemirror_mode": {
    "name": "ipython",
    "version": 3
   },
   "file_extension": ".py",
   "mimetype": "text/x-python",
   "name": "python",
   "nbconvert_exporter": "python",
   "pygments_lexer": "ipython3",
   "version": "3.8.10 (default, Jun 22 2022, 20:18:18) \n[GCC 9.4.0]"
  },
  "orig_nbformat": 4,
  "vscode": {
   "interpreter": {
    "hash": "f196a62d9168bc089cdb1e6974686efe411e3677bec3cc5555a1e0b9a4309ed8"
   }
  }
 },
 "nbformat": 4,
 "nbformat_minor": 2
}
